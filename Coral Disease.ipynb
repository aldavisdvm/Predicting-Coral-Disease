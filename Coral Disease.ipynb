{
 "cells": [
  {
   "cell_type": "markdown",
   "metadata": {},
   "source": [
    "# PREDICTING CORAL DISEASE\n",
    "## AdaBoost Regressor vs Stacking Regressor vs XGBoost Regressor\n"
   ]
  },
  {
   "cell_type": "markdown",
   "metadata": {},
   "source": [
    "### Import Packages and Read In Data"
   ]
  },
  {
   "cell_type": "code",
   "execution_count": 1,
   "metadata": {},
   "outputs": [],
   "source": [
    "import numpy as np \n",
    "import pandas as pd \n",
    "from matplotlib import pyplot as plt\n",
    "import seaborn as sns\n",
    "import xgboost as xgb\n",
    "\n",
    "from sklearn.model_selection import train_test_split\n",
    "from sklearn.linear_model import LinearRegression\n",
    "from mlxtend.regressor import StackingRegressor\n",
    "from sklearn.tree import DecisionTreeRegressor\n",
    "from sklearn.linear_model import Ridge\n",
    "from sklearn.ensemble import AdaBoostRegressor\n",
    "from sklearn import metrics\n",
    "from sklearn.metrics import mean_absolute_error\n",
    "from sklearn.metrics import mean_squared_error as MSE "
   ]
  },
  {
   "cell_type": "code",
   "execution_count": 2,
   "metadata": {},
   "outputs": [],
   "source": [
    "# Read file\n",
    "climate_df= pd.read_csv(\"Climate.csv\")"
   ]
  },
  {
   "cell_type": "markdown",
   "metadata": {},
   "source": [
    "### Explore Data"
   ]
  },
  {
   "cell_type": "code",
   "execution_count": 3,
   "metadata": {
    "scrolled": true
   },
   "outputs": [
    {
     "name": "stdout",
     "output_type": "stream",
     "text": [
      "<class 'pandas.core.frame.DataFrame'>\n",
      "RangeIndex: 60 entries, 0 to 59\n",
      "Data columns (total 28 columns):\n",
      " #   Column                             Non-Null Count  Dtype  \n",
      "---  ------                             --------------  -----  \n",
      " 0   Benthic_Sector                     60 non-null     object \n",
      " 1   IslandCode                         60 non-null     object \n",
      " 2   Island                             60 non-null     object \n",
      " 3   RegionCode                         60 non-null     object \n",
      " 4   FAC_Den.Diseased                   60 non-null     float64\n",
      " 5   FAC_CoralDiversity                 60 non-null     float64\n",
      " 6   FAC_CoralJuvDensity                60 non-null     float64\n",
      " 7   FAC_HerbivorousFishBiomass         60 non-null     float64\n",
      " 8   FAC_MacroalgalCover_FishTeam       60 non-null     float64\n",
      " 9   FAC_BleachingResistance            60 non-null     float64\n",
      " 10  FAC_FishingDepletion               60 non-null     float64\n",
      " 11  FAC_TemperatureVariability         60 non-null     float64\n",
      " 12  N0595FAC_Den.Diseased              60 non-null     float64\n",
      " 13  N0595FAC_CoralDiversity            60 non-null     float64\n",
      " 14  N0595FAC_CoralJuvDensity           60 non-null     float64\n",
      " 15  N0595FAC_HerbivorousFishBiomass    60 non-null     float64\n",
      " 16  N0595FAC_MacroalgalCover_FishTeam  60 non-null     float64\n",
      " 17  N0595FAC_BleachingResistance       60 non-null     float64\n",
      " 18  N0595FAC_FishingDepletion          60 non-null     float64\n",
      " 19  N0595FAC_TemperatureVariability    60 non-null     float64\n",
      " 20  TotalResilience                    60 non-null     float64\n",
      " 21  TotalResilienceNorm                60 non-null     float64\n",
      " 22  Resistance                         60 non-null     float64\n",
      " 23  ResistanceNorm                     60 non-null     float64\n",
      " 24  CoralCompetitiveness               60 non-null     float64\n",
      " 25  CoralCompetitivenessNorm           60 non-null     float64\n",
      " 26  Stress.Free                        60 non-null     float64\n",
      " 27  Stress.FreeNorm                    60 non-null     float64\n",
      "dtypes: float64(24), object(4)\n",
      "memory usage: 13.2+ KB\n"
     ]
    }
   ],
   "source": [
    "#Checking file\n",
    "climate_df.head()\n",
    "climate_df.info()"
   ]
  },
  {
   "cell_type": "code",
   "execution_count": 4,
   "metadata": {
    "scrolled": true
   },
   "outputs": [
    {
     "data": {
      "text/html": [
       "<div>\n",
       "<style scoped>\n",
       "    .dataframe tbody tr th:only-of-type {\n",
       "        vertical-align: middle;\n",
       "    }\n",
       "\n",
       "    .dataframe tbody tr th {\n",
       "        vertical-align: top;\n",
       "    }\n",
       "\n",
       "    .dataframe thead th {\n",
       "        text-align: right;\n",
       "    }\n",
       "</style>\n",
       "<table border=\"1\" class=\"dataframe\">\n",
       "  <thead>\n",
       "    <tr style=\"text-align: right;\">\n",
       "      <th></th>\n",
       "      <th>FAC_Den.Diseased</th>\n",
       "      <th>FAC_CoralDiversity</th>\n",
       "      <th>FAC_CoralJuvDensity</th>\n",
       "      <th>FAC_HerbivorousFishBiomass</th>\n",
       "      <th>FAC_MacroalgalCover_FishTeam</th>\n",
       "      <th>FAC_BleachingResistance</th>\n",
       "      <th>FAC_FishingDepletion</th>\n",
       "      <th>FAC_TemperatureVariability</th>\n",
       "      <th>N0595FAC_Den.Diseased</th>\n",
       "      <th>N0595FAC_CoralDiversity</th>\n",
       "      <th>...</th>\n",
       "      <th>N0595FAC_FishingDepletion</th>\n",
       "      <th>N0595FAC_TemperatureVariability</th>\n",
       "      <th>TotalResilience</th>\n",
       "      <th>TotalResilienceNorm</th>\n",
       "      <th>Resistance</th>\n",
       "      <th>ResistanceNorm</th>\n",
       "      <th>CoralCompetitiveness</th>\n",
       "      <th>CoralCompetitivenessNorm</th>\n",
       "      <th>Stress.Free</th>\n",
       "      <th>Stress.FreeNorm</th>\n",
       "    </tr>\n",
       "  </thead>\n",
       "  <tbody>\n",
       "    <tr>\n",
       "      <th>count</th>\n",
       "      <td>60.000000</td>\n",
       "      <td>60.000000</td>\n",
       "      <td>60.000000</td>\n",
       "      <td>60.000000</td>\n",
       "      <td>60.000000</td>\n",
       "      <td>60.000000</td>\n",
       "      <td>60.000000</td>\n",
       "      <td>60.000000</td>\n",
       "      <td>60.000000</td>\n",
       "      <td>60.000000</td>\n",
       "      <td>...</td>\n",
       "      <td>60.000000</td>\n",
       "      <td>60.000000</td>\n",
       "      <td>60.000000</td>\n",
       "      <td>60.000000</td>\n",
       "      <td>60.000000</td>\n",
       "      <td>60.000000</td>\n",
       "      <td>60.000000</td>\n",
       "      <td>60.000000</td>\n",
       "      <td>60.000000</td>\n",
       "      <td>60.000000</td>\n",
       "    </tr>\n",
       "    <tr>\n",
       "      <th>mean</th>\n",
       "      <td>0.096315</td>\n",
       "      <td>5.827972</td>\n",
       "      <td>5.496380</td>\n",
       "      <td>17.397449</td>\n",
       "      <td>11.485826</td>\n",
       "      <td>0.917279</td>\n",
       "      <td>0.417045</td>\n",
       "      <td>0.445823</td>\n",
       "      <td>0.638782</td>\n",
       "      <td>0.378280</td>\n",
       "      <td>...</td>\n",
       "      <td>0.438461</td>\n",
       "      <td>0.237648</td>\n",
       "      <td>0.463680</td>\n",
       "      <td>0.668110</td>\n",
       "      <td>0.426717</td>\n",
       "      <td>0.528965</td>\n",
       "      <td>0.444690</td>\n",
       "      <td>0.575176</td>\n",
       "      <td>0.538621</td>\n",
       "      <td>0.538621</td>\n",
       "    </tr>\n",
       "    <tr>\n",
       "      <th>std</th>\n",
       "      <td>0.084591</td>\n",
       "      <td>3.339421</td>\n",
       "      <td>3.137596</td>\n",
       "      <td>9.783236</td>\n",
       "      <td>7.714642</td>\n",
       "      <td>0.043894</td>\n",
       "      <td>0.257369</td>\n",
       "      <td>0.142110</td>\n",
       "      <td>0.294570</td>\n",
       "      <td>0.322690</td>\n",
       "      <td>...</td>\n",
       "      <td>0.346540</td>\n",
       "      <td>0.255079</td>\n",
       "      <td>0.112854</td>\n",
       "      <td>0.162610</td>\n",
       "      <td>0.182603</td>\n",
       "      <td>0.226358</td>\n",
       "      <td>0.165768</td>\n",
       "      <td>0.214410</td>\n",
       "      <td>0.217744</td>\n",
       "      <td>0.217744</td>\n",
       "    </tr>\n",
       "    <tr>\n",
       "      <th>min</th>\n",
       "      <td>0.000000</td>\n",
       "      <td>1.457489</td>\n",
       "      <td>1.011600</td>\n",
       "      <td>2.845274</td>\n",
       "      <td>1.031863</td>\n",
       "      <td>0.747338</td>\n",
       "      <td>0.000000</td>\n",
       "      <td>0.274688</td>\n",
       "      <td>0.000000</td>\n",
       "      <td>0.000000</td>\n",
       "      <td>...</td>\n",
       "      <td>0.000000</td>\n",
       "      <td>0.000000</td>\n",
       "      <td>0.239983</td>\n",
       "      <td>0.345788</td>\n",
       "      <td>0.015199</td>\n",
       "      <td>0.018841</td>\n",
       "      <td>0.108785</td>\n",
       "      <td>0.140706</td>\n",
       "      <td>0.040578</td>\n",
       "      <td>0.040578</td>\n",
       "    </tr>\n",
       "    <tr>\n",
       "      <th>25%</th>\n",
       "      <td>0.029012</td>\n",
       "      <td>3.174936</td>\n",
       "      <td>3.181125</td>\n",
       "      <td>12.704553</td>\n",
       "      <td>5.292983</td>\n",
       "      <td>0.898222</td>\n",
       "      <td>0.213713</td>\n",
       "      <td>0.367336</td>\n",
       "      <td>0.504660</td>\n",
       "      <td>0.109736</td>\n",
       "      <td>...</td>\n",
       "      <td>0.087510</td>\n",
       "      <td>0.071198</td>\n",
       "      <td>0.363449</td>\n",
       "      <td>0.523688</td>\n",
       "      <td>0.304409</td>\n",
       "      <td>0.377350</td>\n",
       "      <td>0.331359</td>\n",
       "      <td>0.428590</td>\n",
       "      <td>0.361640</td>\n",
       "      <td>0.361640</td>\n",
       "    </tr>\n",
       "    <tr>\n",
       "      <th>50%</th>\n",
       "      <td>0.082480</td>\n",
       "      <td>4.754530</td>\n",
       "      <td>5.177000</td>\n",
       "      <td>16.439788</td>\n",
       "      <td>8.335739</td>\n",
       "      <td>0.930306</td>\n",
       "      <td>0.464026</td>\n",
       "      <td>0.418738</td>\n",
       "      <td>0.676039</td>\n",
       "      <td>0.273796</td>\n",
       "      <td>...</td>\n",
       "      <td>0.375202</td>\n",
       "      <td>0.189816</td>\n",
       "      <td>0.464521</td>\n",
       "      <td>0.669322</td>\n",
       "      <td>0.452965</td>\n",
       "      <td>0.561503</td>\n",
       "      <td>0.429414</td>\n",
       "      <td>0.555418</td>\n",
       "      <td>0.514877</td>\n",
       "      <td>0.514877</td>\n",
       "    </tr>\n",
       "    <tr>\n",
       "      <th>75%</th>\n",
       "      <td>0.123702</td>\n",
       "      <td>8.197949</td>\n",
       "      <td>6.832100</td>\n",
       "      <td>20.623146</td>\n",
       "      <td>17.329893</td>\n",
       "      <td>0.947629</td>\n",
       "      <td>0.677690</td>\n",
       "      <td>0.454473</td>\n",
       "      <td>0.898326</td>\n",
       "      <td>0.631438</td>\n",
       "      <td>...</td>\n",
       "      <td>0.712241</td>\n",
       "      <td>0.272281</td>\n",
       "      <td>0.564117</td>\n",
       "      <td>0.812829</td>\n",
       "      <td>0.549871</td>\n",
       "      <td>0.681629</td>\n",
       "      <td>0.543663</td>\n",
       "      <td>0.703191</td>\n",
       "      <td>0.660399</td>\n",
       "      <td>0.660399</td>\n",
       "    </tr>\n",
       "    <tr>\n",
       "      <th>max</th>\n",
       "      <td>0.379577</td>\n",
       "      <td>16.364439</td>\n",
       "      <td>17.258500</td>\n",
       "      <td>66.420301</td>\n",
       "      <td>38.870968</td>\n",
       "      <td>0.976422</td>\n",
       "      <td>0.742682</td>\n",
       "      <td>1.159873</td>\n",
       "      <td>1.000000</td>\n",
       "      <td>1.000000</td>\n",
       "      <td>...</td>\n",
       "      <td>1.000000</td>\n",
       "      <td>1.000000</td>\n",
       "      <td>0.694017</td>\n",
       "      <td>1.000000</td>\n",
       "      <td>0.806702</td>\n",
       "      <td>1.000000</td>\n",
       "      <td>0.773137</td>\n",
       "      <td>1.000000</td>\n",
       "      <td>1.000000</td>\n",
       "      <td>1.000000</td>\n",
       "    </tr>\n",
       "  </tbody>\n",
       "</table>\n",
       "<p>8 rows × 24 columns</p>\n",
       "</div>"
      ],
      "text/plain": [
       "       FAC_Den.Diseased  FAC_CoralDiversity  FAC_CoralJuvDensity  \\\n",
       "count         60.000000           60.000000            60.000000   \n",
       "mean           0.096315            5.827972             5.496380   \n",
       "std            0.084591            3.339421             3.137596   \n",
       "min            0.000000            1.457489             1.011600   \n",
       "25%            0.029012            3.174936             3.181125   \n",
       "50%            0.082480            4.754530             5.177000   \n",
       "75%            0.123702            8.197949             6.832100   \n",
       "max            0.379577           16.364439            17.258500   \n",
       "\n",
       "       FAC_HerbivorousFishBiomass  FAC_MacroalgalCover_FishTeam  \\\n",
       "count                   60.000000                     60.000000   \n",
       "mean                    17.397449                     11.485826   \n",
       "std                      9.783236                      7.714642   \n",
       "min                      2.845274                      1.031863   \n",
       "25%                     12.704553                      5.292983   \n",
       "50%                     16.439788                      8.335739   \n",
       "75%                     20.623146                     17.329893   \n",
       "max                     66.420301                     38.870968   \n",
       "\n",
       "       FAC_BleachingResistance  FAC_FishingDepletion  \\\n",
       "count                60.000000             60.000000   \n",
       "mean                  0.917279              0.417045   \n",
       "std                   0.043894              0.257369   \n",
       "min                   0.747338              0.000000   \n",
       "25%                   0.898222              0.213713   \n",
       "50%                   0.930306              0.464026   \n",
       "75%                   0.947629              0.677690   \n",
       "max                   0.976422              0.742682   \n",
       "\n",
       "       FAC_TemperatureVariability  N0595FAC_Den.Diseased  \\\n",
       "count                   60.000000              60.000000   \n",
       "mean                     0.445823               0.638782   \n",
       "std                      0.142110               0.294570   \n",
       "min                      0.274688               0.000000   \n",
       "25%                      0.367336               0.504660   \n",
       "50%                      0.418738               0.676039   \n",
       "75%                      0.454473               0.898326   \n",
       "max                      1.159873               1.000000   \n",
       "\n",
       "       N0595FAC_CoralDiversity  ...  N0595FAC_FishingDepletion  \\\n",
       "count                60.000000  ...                  60.000000   \n",
       "mean                  0.378280  ...                   0.438461   \n",
       "std                   0.322690  ...                   0.346540   \n",
       "min                   0.000000  ...                   0.000000   \n",
       "25%                   0.109736  ...                   0.087510   \n",
       "50%                   0.273796  ...                   0.375202   \n",
       "75%                   0.631438  ...                   0.712241   \n",
       "max                   1.000000  ...                   1.000000   \n",
       "\n",
       "       N0595FAC_TemperatureVariability  TotalResilience  TotalResilienceNorm  \\\n",
       "count                        60.000000        60.000000            60.000000   \n",
       "mean                          0.237648         0.463680             0.668110   \n",
       "std                           0.255079         0.112854             0.162610   \n",
       "min                           0.000000         0.239983             0.345788   \n",
       "25%                           0.071198         0.363449             0.523688   \n",
       "50%                           0.189816         0.464521             0.669322   \n",
       "75%                           0.272281         0.564117             0.812829   \n",
       "max                           1.000000         0.694017             1.000000   \n",
       "\n",
       "       Resistance  ResistanceNorm  CoralCompetitiveness  \\\n",
       "count   60.000000       60.000000             60.000000   \n",
       "mean     0.426717        0.528965              0.444690   \n",
       "std      0.182603        0.226358              0.165768   \n",
       "min      0.015199        0.018841              0.108785   \n",
       "25%      0.304409        0.377350              0.331359   \n",
       "50%      0.452965        0.561503              0.429414   \n",
       "75%      0.549871        0.681629              0.543663   \n",
       "max      0.806702        1.000000              0.773137   \n",
       "\n",
       "       CoralCompetitivenessNorm  Stress.Free  Stress.FreeNorm  \n",
       "count                 60.000000    60.000000        60.000000  \n",
       "mean                   0.575176     0.538621         0.538621  \n",
       "std                    0.214410     0.217744         0.217744  \n",
       "min                    0.140706     0.040578         0.040578  \n",
       "25%                    0.428590     0.361640         0.361640  \n",
       "50%                    0.555418     0.514877         0.514877  \n",
       "75%                    0.703191     0.660399         0.660399  \n",
       "max                    1.000000     1.000000         1.000000  \n",
       "\n",
       "[8 rows x 24 columns]"
      ]
     },
     "execution_count": 4,
     "metadata": {},
     "output_type": "execute_result"
    }
   ],
   "source": [
    "# Describing features\n",
    "climate_df.describe()"
   ]
  },
  {
   "cell_type": "markdown",
   "metadata": {},
   "source": [
    "### Divide Data Into Features and Target"
   ]
  },
  {
   "cell_type": "markdown",
   "metadata": {},
   "source": [
    "Here we will only select the columns of environmental data we are interested in as features. Our target is 'FAC_Den.Diseased', which is the observed number of diseased colonies of coral per square meter."
   ]
  },
  {
   "cell_type": "code",
   "execution_count": 5,
   "metadata": {},
   "outputs": [
    {
     "data": {
      "text/html": [
       "<div>\n",
       "<style scoped>\n",
       "    .dataframe tbody tr th:only-of-type {\n",
       "        vertical-align: middle;\n",
       "    }\n",
       "\n",
       "    .dataframe tbody tr th {\n",
       "        vertical-align: top;\n",
       "    }\n",
       "\n",
       "    .dataframe thead th {\n",
       "        text-align: right;\n",
       "    }\n",
       "</style>\n",
       "<table border=\"1\" class=\"dataframe\">\n",
       "  <thead>\n",
       "    <tr style=\"text-align: right;\">\n",
       "      <th></th>\n",
       "      <th>FAC_CoralDiversity</th>\n",
       "      <th>FAC_CoralJuvDensity</th>\n",
       "      <th>FAC_HerbivorousFishBiomass</th>\n",
       "      <th>FAC_MacroalgalCover_FishTeam</th>\n",
       "      <th>FAC_BleachingResistance</th>\n",
       "      <th>FAC_FishingDepletion</th>\n",
       "    </tr>\n",
       "  </thead>\n",
       "  <tbody>\n",
       "    <tr>\n",
       "      <th>0</th>\n",
       "      <td>8.226989</td>\n",
       "      <td>12.5947</td>\n",
       "      <td>9.858241</td>\n",
       "      <td>22.923913</td>\n",
       "      <td>0.871475</td>\n",
       "      <td>0.646666</td>\n",
       "    </tr>\n",
       "    <tr>\n",
       "      <th>1</th>\n",
       "      <td>10.570686</td>\n",
       "      <td>5.0610</td>\n",
       "      <td>20.617879</td>\n",
       "      <td>8.156250</td>\n",
       "      <td>0.912913</td>\n",
       "      <td>0.167703</td>\n",
       "    </tr>\n",
       "    <tr>\n",
       "      <th>2</th>\n",
       "      <td>9.943677</td>\n",
       "      <td>4.5672</td>\n",
       "      <td>16.870557</td>\n",
       "      <td>3.871951</td>\n",
       "      <td>0.856630</td>\n",
       "      <td>0.000000</td>\n",
       "    </tr>\n",
       "    <tr>\n",
       "      <th>3</th>\n",
       "      <td>5.348394</td>\n",
       "      <td>2.2774</td>\n",
       "      <td>19.513823</td>\n",
       "      <td>4.459877</td>\n",
       "      <td>0.864645</td>\n",
       "      <td>0.243441</td>\n",
       "    </tr>\n",
       "    <tr>\n",
       "      <th>4</th>\n",
       "      <td>3.383753</td>\n",
       "      <td>11.9126</td>\n",
       "      <td>19.513037</td>\n",
       "      <td>1.652174</td>\n",
       "      <td>0.747338</td>\n",
       "      <td>0.000000</td>\n",
       "    </tr>\n",
       "  </tbody>\n",
       "</table>\n",
       "</div>"
      ],
      "text/plain": [
       "   FAC_CoralDiversity  FAC_CoralJuvDensity  FAC_HerbivorousFishBiomass  \\\n",
       "0            8.226989              12.5947                    9.858241   \n",
       "1           10.570686               5.0610                   20.617879   \n",
       "2            9.943677               4.5672                   16.870557   \n",
       "3            5.348394               2.2774                   19.513823   \n",
       "4            3.383753              11.9126                   19.513037   \n",
       "\n",
       "   FAC_MacroalgalCover_FishTeam  FAC_BleachingResistance  FAC_FishingDepletion  \n",
       "0                     22.923913                 0.871475              0.646666  \n",
       "1                      8.156250                 0.912913              0.167703  \n",
       "2                      3.871951                 0.856630              0.000000  \n",
       "3                      4.459877                 0.864645              0.243441  \n",
       "4                      1.652174                 0.747338              0.000000  "
      ]
     },
     "execution_count": 5,
     "metadata": {},
     "output_type": "execute_result"
    }
   ],
   "source": [
    "# Divide data as features and target\n",
    "X = climate_df[climate_df.columns[5:11]]\n",
    "y = climate_df['FAC_Den.Diseased']\n",
    "\n",
    "# Check feature variables\n",
    "X.head()"
   ]
  },
  {
   "cell_type": "markdown",
   "metadata": {},
   "source": [
    "### EDA"
   ]
  },
  {
   "cell_type": "code",
   "execution_count": 6,
   "metadata": {},
   "outputs": [
    {
     "name": "stdout",
     "output_type": "stream",
     "text": [
      "Correlation With Disease Density\n",
      "FAC_MacroalgalCover_FishTeam    0.209109\n",
      "FAC_CoralJuvDensity             0.195766\n",
      "FAC_CoralDiversity              0.178035\n",
      "FAC_FishingDepletion            0.089570\n",
      "FAC_HerbivorousFishBiomass      0.031917\n",
      "FAC_BleachingResistance         0.030623\n",
      "dtype: float64\n"
     ]
    }
   ],
   "source": [
    "# Check correlation between features and target\n",
    "corr_values = X.corrwith(y)\n",
    "print(\"Correlation With Disease Density\")\n",
    "print(abs(corr_values).sort_values(ascending=False))"
   ]
  },
  {
   "cell_type": "code",
   "execution_count": 7,
   "metadata": {},
   "outputs": [
    {
     "data": {
      "image/png": "[encoded data removed]",
      "text/plain": [
       "<Figure size 864x432 with 2 Axes>"
      ]
     },
     "metadata": {
      "needs_background": "light"
     },
     "output_type": "display_data"
    }
   ],
   "source": [
    "# Check for correlations between features\n",
    "corr =X.corr()\n",
    "fig, ax =plt.subplots(figsize =(12,6))\n",
    "ax  = sns.heatmap(corr,annot =True,fmt = \".2f\")\n",
    "ax.set_title('Correlation Between Features');"
   ]
  },
  {
   "cell_type": "markdown",
   "metadata": {},
   "source": [
    "### Split Into Train and Test"
   ]
  },
  {
   "cell_type": "code",
   "execution_count": 8,
   "metadata": {},
   "outputs": [],
   "source": [
    "# Create the training and test sets\n",
    "X_train, X_test, y_train, y_test = train_test_split(X, y, test_size=0.2, random_state=68)"
   ]
  },
  {
   "cell_type": "markdown",
   "metadata": {},
   "source": [
    "### AdaBoost Regressor Using Linear Regression As Base"
   ]
  },
  {
   "cell_type": "code",
   "execution_count": 9,
   "metadata": {},
   "outputs": [
    {
     "name": "stdout",
     "output_type": "stream",
     "text": [
      "RMSE: 0.126\n"
     ]
    }
   ],
   "source": [
    "# Instantiate a normalized linear regression model\n",
    "reg_lm = LinearRegression(normalize=True)\n",
    "\n",
    "# Build and fit an AdaBoost regressor\n",
    "reg_ada = AdaBoostRegressor(base_estimator=reg_lm, n_estimators=12, random_state=68)\n",
    "reg_ada.fit(X_train, y_train)\n",
    "\n",
    "# Calculate the predictions on the test set\n",
    "pred = reg_ada.predict(X_test)\n",
    "\n",
    "# Evaluate the performance using the RMSE\n",
    "rmse = np.sqrt(MSE(y_test, pred))\n",
    "print('RMSE: {:.3f}'.format(rmse))"
   ]
  },
  {
   "cell_type": "markdown",
   "metadata": {},
   "source": [
    "### AdaBoost Regressor Using Tree As Base"
   ]
  },
  {
   "cell_type": "code",
   "execution_count": 10,
   "metadata": {
    "scrolled": true
   },
   "outputs": [
    {
     "name": "stdout",
     "output_type": "stream",
     "text": [
      "MAE: 0.088\n",
      "RMSE: 0.120\n"
     ]
    }
   ],
   "source": [
    "# Build and fit an AdaBoost regressor\n",
    "reg_ada = AdaBoostRegressor(n_estimators=12, random_state=68)\n",
    "reg_ada.fit(X_train, y_train)\n",
    "\n",
    "# Calculate the predictions on the test set\n",
    "pred = reg_ada.predict(X_test)\n",
    "\n",
    "# Evaluate performance with MAE\n",
    "print('MAE: {:.3f}'.format(mean_absolute_error(y_test,pred)))\n",
    "\n",
    "# Evaluate the performance using the RMSE\n",
    "rmse = np.sqrt(MSE(y_test, pred))\n",
    "print('RMSE: {:.3f}'.format(rmse))"
   ]
  },
  {
   "cell_type": "markdown",
   "metadata": {},
   "source": [
    "### Stacking Regressor With Mlxtend"
   ]
  },
  {
   "cell_type": "code",
   "execution_count": 11,
   "metadata": {},
   "outputs": [
    {
     "name": "stdout",
     "output_type": "stream",
     "text": [
      "MAE: 0.095\n",
      "RMSE: 0.121\n"
     ]
    }
   ],
   "source": [
    "# Instantiate first layer regressors\n",
    "reg_dt = DecisionTreeRegressor(min_samples_leaf=12, min_samples_split=33,\n",
    "                               random_state=68)\n",
    "reg_lr = LinearRegression(normalize=True)\n",
    "reg_ridge = Ridge(random_state=68)\n",
    "\n",
    "# Instantiate the second layer regressor\n",
    "reg_meta = LinearRegression()\n",
    "\n",
    "# Build the stacking regressor\n",
    "reg_stack = StackingRegressor(regressors=[reg_dt, reg_lr, reg_ridge],\n",
    "                             meta_regressor=reg_meta)\n",
    "reg_stack.fit(X_train, y_train)\n",
    "\n",
    "# Evaluate the performance using MAE and RMSE\n",
    "pred = reg_stack.predict(X_test)\n",
    "print('MAE: {:.3f}'.format(mean_absolute_error(y_test,pred)))\n",
    "rmse = np.sqrt(MSE(y_test, pred))\n",
    "print('RMSE: {:.3f}'.format(rmse))"
   ]
  },
  {
   "cell_type": "markdown",
   "metadata": {},
   "source": [
    "### Fit a XGBoost Tree Model"
   ]
  },
  {
   "cell_type": "code",
   "execution_count": 12,
   "metadata": {},
   "outputs": [
    {
     "name": "stdout",
     "output_type": "stream",
     "text": [
      "RMSE :  0.280897\n"
     ]
    }
   ],
   "source": [
    "# Instantiate the XGBRegressor: xg_reg\n",
    "xg_reg = xgb.XGBRegressor(objective ='reg:squarederror', colsample_bytree = 0.3, learning_rate = 0.1,\n",
    "                max_depth = 5, alpha = 10, n_estimators = 10)\n",
    "                  \n",
    "# Fit the regressor to the training set\n",
    "xg_reg.fit(X_train, y_train)\n",
    "\n",
    "# Predict the labels of the test set: preds\n",
    "pred = xg_reg.predict(X_test) \n",
    "\n",
    "# Compute the rmse: rmse\n",
    "rmse=np.sqrt(MSE(y_test, pred)) \n",
    "print(\"RMSE : % f\" %(rmse)) "
   ]
  },
  {
   "cell_type": "code",
   "execution_count": 13,
   "metadata": {},
   "outputs": [],
   "source": [
    "# Convert  dataset into optimized data structure\n",
    "data_dmatrix = xgb.DMatrix(data=X,label=y)"
   ]
  },
  {
   "cell_type": "markdown",
   "metadata": {},
   "source": [
    "### Cross Validation"
   ]
  },
  {
   "cell_type": "code",
   "execution_count": 14,
   "metadata": {},
   "outputs": [
    {
     "name": "stdout",
     "output_type": "stream",
     "text": [
      "   train-rmse-mean  train-rmse-std  test-rmse-mean  test-rmse-std\n",
      "0         0.397600        0.004764        0.397495       0.011625\n",
      "1         0.384381        0.004103        0.384283       0.012104\n",
      "2         0.372470        0.003506        0.372381       0.012526\n",
      "3         0.361739        0.002967        0.361658       0.012898\n",
      "4         0.352070        0.002481        0.351999       0.013224\n",
      "\n",
      " Best test round and RMSE:  115    0.2637\n",
      "Name: test-rmse-mean, dtype: float64\n"
     ]
    }
   ],
   "source": [
    "# Create parameter dictionary\n",
    "params = {\"objective\":\"reg:squarederror\",'colsample_bytree': 0.3,'learning_rate': 0.1,\n",
    "                'max_depth': 5, 'alpha': 10}\n",
    "\n",
    "# Run cross validation\n",
    "cv_results = xgb.cv(dtrain=data_dmatrix, params=params, nfold=3,\n",
    "                    num_boost_round=500,early_stopping_rounds=10,metrics=\"rmse\", as_pandas=True, seed=68)\n",
    "\n",
    "print(cv_results.head())\n",
    "print('\\n Best test round and RMSE: ',(cv_results[\"test-rmse-mean\"]).tail(1))"
   ]
  },
  {
   "cell_type": "markdown",
   "metadata": {},
   "source": [
    "### Plotting Feature Importance"
   ]
  },
  {
   "cell_type": "code",
   "execution_count": 15,
   "metadata": {},
   "outputs": [
    {
     "data": {
      "image/png": "[encoded data removed]",
      "text/plain": [
       "<Figure size 432x288 with 1 Axes>"
      ]
     },
     "metadata": {
      "needs_background": "light"
     },
     "output_type": "display_data"
    }
   ],
   "source": [
    "# Create the DMatrix: housing_dmatrix\n",
    "housing_dmatrix=xgb.DMatrix(X,y)\n",
    "\n",
    "# Create the parameter dictionary: params\n",
    "params={\"objective\":\"reg:squarederror\", \"max_depth\":4}\n",
    "\n",
    "# Train the model: xg_reg\n",
    "xg_reg=xgb.train(params=params, dtrain=housing_dmatrix, num_boost_round=120)\n",
    "\n",
    "# Plot the feature importances\n",
    "xgb.plot_importance(xg_reg)\n",
    "plt.show()"
   ]
  },
  {
   "cell_type": "markdown",
   "metadata": {},
   "source": [
    "### Summary Results:\n",
    "An AdaBoost tree-based regression model had the lowest RMSE at 0.120, with a stacked regressor with a RMSE of 0.121 very close behind. The XGBoost regressor, after cross validation had an RMSE of 0.2637.\n",
    "Coral diversity was the most important feature, followed by juvenile coral density in predicting the number of diseased colonies of coral per square meter in this data set."
   ]
  },
  {
   "cell_type": "code",
   "execution_count": null,
   "metadata": {},
   "outputs": [],
   "source": []
  }
 ],
 "metadata": {
  "kernelspec": {
   "display_name": "Python 3",
   "language": "python",
   "name": "python3"
  },
  "language_info": {
   "codemirror_mode": {
    "name": "ipython",
    "version": 3
   },
   "file_extension": ".py",
   "mimetype": "text/x-python",
   "name": "python",
   "nbconvert_exporter": "python",
   "pygments_lexer": "ipython3",
   "version": "3.8.3"
  }
 },
 "nbformat": 4,
 "nbformat_minor": 4
}
